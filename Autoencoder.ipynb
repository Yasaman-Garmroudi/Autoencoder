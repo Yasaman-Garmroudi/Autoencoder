{
 "cells": [
  {
   "cell_type": "markdown",
   "metadata": {
    "colab": {},
    "colab_type": "code",
    "id": "YsjtCtjEOx_V"
   },
   "source": [
    "# Autoencoder"
   ]
  },
  {
   "cell_type": "code",
   "execution_count": 1,
   "metadata": {
    "colab": {
     "base_uri": "https://localhost:8080/",
     "height": 138
    },
    "colab_type": "code",
    "id": "AMnYxCsyOz96",
    "outputId": "c2f2195d-de18-4601-ccde-4cc963f2032f"
   },
   "outputs": [
    {
     "name": "stdout",
     "output_type": "stream",
     "text": [
      "Go to this URL in a browser: https://accounts.google.com/o/oauth2/auth?client_id=947318989803-6bn6qk8qdgf4n4g3pfee6491hc0brc4i.apps.googleusercontent.com&redirect_uri=urn%3aietf%3awg%3aoauth%3a2.0%3aoob&response_type=code&scope=email%20https%3a%2f%2fwww.googleapis.com%2fauth%2fdocs.test%20https%3a%2f%2fwww.googleapis.com%2fauth%2fdrive%20https%3a%2f%2fwww.googleapis.com%2fauth%2fdrive.photos.readonly%20https%3a%2f%2fwww.googleapis.com%2fauth%2fpeopleapi.readonly\n",
      "\n",
      "Enter your authorization code:\n",
      "··········\n",
      "Mounted at /gdrive\n",
      "/gdrive\n"
     ]
    }
   ],
   "source": [
    "from google.colab import drive\n",
    "drive.mount('/gdrive')\n",
    "%cd /gdrive"
   ]
  },
  {
   "cell_type": "code",
   "execution_count": 0,
   "metadata": {
    "colab": {},
    "colab_type": "code",
    "id": "AuCeUugbO0ur"
   },
   "outputs": [],
   "source": [
    "from keras.layers import Dense, Input, merge\n",
    "from keras.models import Model\n",
    "import numpy as np\n",
    "import matplotlib.pyplot as plt\n",
    "from keras.datasets import fashion_mnist"
   ]
  },
  {
   "cell_type": "code",
   "execution_count": 0,
   "metadata": {
    "colab": {},
    "colab_type": "code",
    "id": "W7jK1CsDPN6w"
   },
   "outputs": [],
   "source": [
    "# Model API"
   ]
  },
  {
   "cell_type": "code",
   "execution_count": 0,
   "metadata": {
    "colab": {},
    "colab_type": "code",
    "id": "oyMQtPiLPTfI"
   },
   "outputs": [],
   "source": [
    "# input\n",
    "i = Input(shape=(784,))\n",
    "\n",
    "# encoder part(downsampling)\n",
    "e1 = Dense(256, activation='relu')(i)\n",
    "e2 = Dense(32, activation='relu')(e1)\n",
    "\n",
    "# bottle neck (Z Space, Low level representation)\n",
    "b = Dense(16, activation='relu')(e2)\n",
    "\n",
    "# decoder part(upsampling)\n",
    "d1 = Dense(64, activation='relu')(b)\n",
    "d2 = Dense(512, activation='relu')(d1)\n",
    "\n",
    "# output\n",
    "o = Dense(784, activation='sigmoid')(d2)\n",
    "\n",
    "autoencoder = Model(i, o)"
   ]
  },
  {
   "cell_type": "code",
   "execution_count": 19,
   "metadata": {
    "colab": {
     "base_uri": "https://localhost:8080/",
     "height": 386
    },
    "colab_type": "code",
    "id": "hvB6UgU0R233",
    "outputId": "ec65bebf-dd42-4683-aa18-8308dedd0a74"
   },
   "outputs": [
    {
     "name": "stdout",
     "output_type": "stream",
     "text": [
      "Model: \"model_4\"\n",
      "_________________________________________________________________\n",
      "Layer (type)                 Output Shape              Param #   \n",
      "=================================================================\n",
      "input_4 (InputLayer)         (None, 784)               0         \n",
      "_________________________________________________________________\n",
      "dense_19 (Dense)             (None, 256)               200960    \n",
      "_________________________________________________________________\n",
      "dense_20 (Dense)             (None, 32)                8224      \n",
      "_________________________________________________________________\n",
      "dense_21 (Dense)             (None, 16)                528       \n",
      "_________________________________________________________________\n",
      "dense_22 (Dense)             (None, 64)                1088      \n",
      "_________________________________________________________________\n",
      "dense_23 (Dense)             (None, 512)               33280     \n",
      "_________________________________________________________________\n",
      "dense_24 (Dense)             (None, 784)               402192    \n",
      "=================================================================\n",
      "Total params: 646,272\n",
      "Trainable params: 646,272\n",
      "Non-trainable params: 0\n",
      "_________________________________________________________________\n"
     ]
    }
   ],
   "source": [
    "autoencoder.summary()"
   ]
  },
  {
   "cell_type": "code",
   "execution_count": 0,
   "metadata": {
    "colab": {},
    "colab_type": "code",
    "id": "EhVd073XR6pI"
   },
   "outputs": [],
   "source": [
    "# autoencoder.layers[0].name = 'Input layer'\n",
    "# autoencoder.layers[-1].name = 'Output layer'\n",
    "# autoencoder.layers[3].name = 'bottle neck'"
   ]
  },
  {
   "cell_type": "code",
   "execution_count": 0,
   "metadata": {
    "colab": {},
    "colab_type": "code",
    "id": "P7qCA8PfSHjE"
   },
   "outputs": [],
   "source": [
    "# autoencoder.summary()"
   ]
  },
  {
   "cell_type": "code",
   "execution_count": 0,
   "metadata": {
    "colab": {},
    "colab_type": "code",
    "id": "_xBK51jXSXZO"
   },
   "outputs": [],
   "source": [
    "from keras.utils import plot_model"
   ]
  },
  {
   "cell_type": "code",
   "execution_count": 0,
   "metadata": {
    "colab": {},
    "colab_type": "code",
    "id": "XfeNcfbFTKOG"
   },
   "outputs": [],
   "source": [
    "# for i in range(len(autoencoder.layers)):\n",
    "#   autoencoder.layers[i].name = f\"{i}\""
   ]
  },
  {
   "cell_type": "code",
   "execution_count": 24,
   "metadata": {
    "colab": {
     "base_uri": "https://localhost:8080/",
     "height": 754
    },
    "colab_type": "code",
    "id": "CnlVFb8MSfmT",
    "outputId": "a9cc3592-6bba-4991-ea5f-b039ebee397b"
   },
   "outputs": [
    {
     "data": {
      "image/jpeg": "[encoded data removed]",
      "text/plain": [
       "<IPython.core.display.Image object>"
      ]
     },
     "execution_count": 24,
     "metadata": {
      "tags": []
     },
     "output_type": "execute_result"
    }
   ],
   "source": [
    "plot_model(autoencoder, to_file='/content/autoencoder.jpg', show_shapes=True, )"
   ]
  },
  {
   "cell_type": "code",
   "execution_count": 25,
   "metadata": {
    "colab": {
     "base_uri": "https://localhost:8080/",
     "height": 154
    },
    "colab_type": "code",
    "id": "SMADWZz_Sqnm",
    "outputId": "0bdac635-13e2-409a-ebf6-4d5ab2dc31af"
   },
   "outputs": [
    {
     "name": "stdout",
     "output_type": "stream",
     "text": [
      "WARNING:tensorflow:From /usr/local/lib/python3.6/dist-packages/keras/optimizers.py:793: The name tf.train.Optimizer is deprecated. Please use tf.compat.v1.train.Optimizer instead.\n",
      "\n",
      "WARNING:tensorflow:From /usr/local/lib/python3.6/dist-packages/keras/backend/tensorflow_backend.py:3657: The name tf.log is deprecated. Please use tf.math.log instead.\n",
      "\n",
      "WARNING:tensorflow:From /usr/local/lib/python3.6/dist-packages/tensorflow_core/python/ops/nn_impl.py:183: where (from tensorflow.python.ops.array_ops) is deprecated and will be removed in a future version.\n",
      "Instructions for updating:\n",
      "Use tf.where in 2.0, which has the same broadcast rule as np.where\n"
     ]
    }
   ],
   "source": [
    "# compile\n",
    "autoencoder.compile(optimizer='adam', loss='binary_crossentropy')"
   ]
  },
  {
   "cell_type": "code",
   "execution_count": 26,
   "metadata": {
    "colab": {
     "base_uri": "https://localhost:8080/",
     "height": 171
    },
    "colab_type": "code",
    "id": "N0Dpp10DVTID",
    "outputId": "192b77b3-d6e5-4e1b-9160-0a3a90c640d5"
   },
   "outputs": [
    {
     "name": "stdout",
     "output_type": "stream",
     "text": [
      "Downloading data from http://fashion-mnist.s3-website.eu-central-1.amazonaws.com/train-labels-idx1-ubyte.gz\n",
      "32768/29515 [=================================] - 0s 3us/step\n",
      "Downloading data from http://fashion-mnist.s3-website.eu-central-1.amazonaws.com/train-images-idx3-ubyte.gz\n",
      "26427392/26421880 [==============================] - 2s 0us/step\n",
      "Downloading data from http://fashion-mnist.s3-website.eu-central-1.amazonaws.com/t10k-labels-idx1-ubyte.gz\n",
      "8192/5148 [===============================================] - 0s 0us/step\n",
      "Downloading data from http://fashion-mnist.s3-website.eu-central-1.amazonaws.com/t10k-images-idx3-ubyte.gz\n",
      "4423680/4422102 [==============================] - 1s 0us/step\n"
     ]
    }
   ],
   "source": [
    "# data preprocessing\n",
    "\n",
    "(X_train,_), (X_test,_) = fashion_mnist.load_data()"
   ]
  },
  {
   "cell_type": "code",
   "execution_count": 0,
   "metadata": {
    "colab": {},
    "colab_type": "code",
    "id": "D1t87EfEVg-z"
   },
   "outputs": [],
   "source": [
    "from keras.utils import normalize\n",
    "\n",
    "X_train = normalize(X_train)\n",
    "X_test = normalize(X_test)\n",
    "\n",
    "X_train = X_train.reshape(-1,784)\n",
    "X_test = X_test.reshape(-1,784)"
   ]
  },
  {
   "cell_type": "code",
   "execution_count": 0,
   "metadata": {
    "colab": {},
    "colab_type": "code",
    "id": "wq0FBhmuWZnM"
   },
   "outputs": [],
   "source": [
    "# train the model"
   ]
  },
  {
   "cell_type": "code",
   "execution_count": 30,
   "metadata": {
    "colab": {
     "base_uri": "https://localhost:8080/",
     "height": 1000
    },
    "colab_type": "code",
    "id": "uOH7shLdWbqN",
    "outputId": "a57cb475-1c3c-4915-9082-3113d6781b0b"
   },
   "outputs": [
    {
     "name": "stdout",
     "output_type": "stream",
     "text": [
      "WARNING:tensorflow:From /usr/local/lib/python3.6/dist-packages/keras/backend/tensorflow_backend.py:1033: The name tf.assign_add is deprecated. Please use tf.compat.v1.assign_add instead.\n",
      "\n",
      "WARNING:tensorflow:From /usr/local/lib/python3.6/dist-packages/keras/backend/tensorflow_backend.py:1020: The name tf.assign is deprecated. Please use tf.compat.v1.assign instead.\n",
      "\n",
      "WARNING:tensorflow:From /usr/local/lib/python3.6/dist-packages/keras/backend/tensorflow_backend.py:3005: The name tf.Session is deprecated. Please use tf.compat.v1.Session instead.\n",
      "\n",
      "Train on 60000 samples, validate on 10000 samples\n",
      "Epoch 1/100\n",
      "WARNING:tensorflow:From /usr/local/lib/python3.6/dist-packages/keras/backend/tensorflow_backend.py:190: The name tf.get_default_session is deprecated. Please use tf.compat.v1.get_default_session instead.\n",
      "\n",
      "WARNING:tensorflow:From /usr/local/lib/python3.6/dist-packages/keras/backend/tensorflow_backend.py:197: The name tf.ConfigProto is deprecated. Please use tf.compat.v1.ConfigProto instead.\n",
      "\n",
      "WARNING:tensorflow:From /usr/local/lib/python3.6/dist-packages/keras/backend/tensorflow_backend.py:207: The name tf.global_variables is deprecated. Please use tf.compat.v1.global_variables instead.\n",
      "\n",
      "WARNING:tensorflow:From /usr/local/lib/python3.6/dist-packages/keras/backend/tensorflow_backend.py:216: The name tf.is_variable_initialized is deprecated. Please use tf.compat.v1.is_variable_initialized instead.\n",
      "\n",
      "WARNING:tensorflow:From /usr/local/lib/python3.6/dist-packages/keras/backend/tensorflow_backend.py:223: The name tf.variables_initializer is deprecated. Please use tf.compat.v1.variables_initializer instead.\n",
      "\n",
      "60000/60000 [==============================] - 8s 135us/step - loss: 0.3802 - val_loss: 0.3139\n",
      "Epoch 2/100\n",
      "60000/60000 [==============================] - 7s 115us/step - loss: 0.2978 - val_loss: 0.2890\n",
      "Epoch 3/100\n",
      "60000/60000 [==============================] - 7s 116us/step - loss: 0.2836 - val_loss: 0.2807\n",
      "Epoch 4/100\n",
      "60000/60000 [==============================] - 7s 116us/step - loss: 0.2775 - val_loss: 0.2765\n",
      "Epoch 5/100\n",
      "60000/60000 [==============================] - 7s 116us/step - loss: 0.2743 - val_loss: 0.2742\n",
      "Epoch 6/100\n",
      "60000/60000 [==============================] - 7s 116us/step - loss: 0.2724 - val_loss: 0.2728\n",
      "Epoch 7/100\n",
      "60000/60000 [==============================] - 7s 116us/step - loss: 0.2712 - val_loss: 0.2716\n",
      "Epoch 8/100\n",
      "60000/60000 [==============================] - 7s 116us/step - loss: 0.2702 - val_loss: 0.2706\n",
      "Epoch 9/100\n",
      "60000/60000 [==============================] - 7s 116us/step - loss: 0.2692 - val_loss: 0.2698\n",
      "Epoch 10/100\n",
      "60000/60000 [==============================] - 7s 116us/step - loss: 0.2685 - val_loss: 0.2692\n",
      "Epoch 11/100\n",
      "60000/60000 [==============================] - 7s 116us/step - loss: 0.2679 - val_loss: 0.2687\n",
      "Epoch 12/100\n",
      "60000/60000 [==============================] - 7s 116us/step - loss: 0.2674 - val_loss: 0.2683\n",
      "Epoch 13/100\n",
      "60000/60000 [==============================] - 7s 115us/step - loss: 0.2671 - val_loss: 0.2679\n",
      "Epoch 14/100\n",
      "60000/60000 [==============================] - 7s 115us/step - loss: 0.2667 - val_loss: 0.2676\n",
      "Epoch 15/100\n",
      "60000/60000 [==============================] - 7s 116us/step - loss: 0.2664 - val_loss: 0.2673\n",
      "Epoch 16/100\n",
      "60000/60000 [==============================] - 7s 117us/step - loss: 0.2662 - val_loss: 0.2671\n",
      "Epoch 17/100\n",
      "60000/60000 [==============================] - 7s 117us/step - loss: 0.2659 - val_loss: 0.2668\n",
      "Epoch 18/100\n",
      "60000/60000 [==============================] - 7s 117us/step - loss: 0.2657 - val_loss: 0.2666\n",
      "Epoch 19/100\n",
      "60000/60000 [==============================] - 7s 115us/step - loss: 0.2655 - val_loss: 0.2664\n",
      "Epoch 20/100\n",
      "60000/60000 [==============================] - 7s 116us/step - loss: 0.2653 - val_loss: 0.2663\n",
      "Epoch 21/100\n",
      "60000/60000 [==============================] - 7s 117us/step - loss: 0.2651 - val_loss: 0.2661\n",
      "Epoch 22/100\n",
      "60000/60000 [==============================] - 7s 116us/step - loss: 0.2649 - val_loss: 0.2659\n",
      "Epoch 23/100\n",
      "60000/60000 [==============================] - 7s 115us/step - loss: 0.2648 - val_loss: 0.2658\n",
      "Epoch 24/100\n",
      "60000/60000 [==============================] - 7s 116us/step - loss: 0.2646 - val_loss: 0.2656\n",
      "Epoch 25/100\n",
      "60000/60000 [==============================] - 7s 115us/step - loss: 0.2644 - val_loss: 0.2654\n",
      "Epoch 26/100\n",
      "60000/60000 [==============================] - 7s 115us/step - loss: 0.2643 - val_loss: 0.2653\n",
      "Epoch 27/100\n",
      "60000/60000 [==============================] - 7s 116us/step - loss: 0.2642 - val_loss: 0.2652\n",
      "Epoch 28/100\n",
      "60000/60000 [==============================] - 7s 115us/step - loss: 0.2640 - val_loss: 0.2651\n",
      "Epoch 29/100\n",
      "60000/60000 [==============================] - 7s 115us/step - loss: 0.2639 - val_loss: 0.2649\n",
      "Epoch 30/100\n",
      "60000/60000 [==============================] - 7s 115us/step - loss: 0.2638 - val_loss: 0.2648\n",
      "Epoch 31/100\n",
      "60000/60000 [==============================] - 7s 116us/step - loss: 0.2636 - val_loss: 0.2647\n",
      "Epoch 32/100\n",
      "60000/60000 [==============================] - 7s 115us/step - loss: 0.2635 - val_loss: 0.2646\n",
      "Epoch 33/100\n",
      "60000/60000 [==============================] - 7s 115us/step - loss: 0.2634 - val_loss: 0.2645\n",
      "Epoch 34/100\n",
      "60000/60000 [==============================] - 7s 116us/step - loss: 0.2633 - val_loss: 0.2644\n",
      "Epoch 35/100\n",
      "60000/60000 [==============================] - 7s 116us/step - loss: 0.2632 - val_loss: 0.2643\n",
      "Epoch 36/100\n",
      "60000/60000 [==============================] - 7s 116us/step - loss: 0.2631 - val_loss: 0.2642\n",
      "Epoch 37/100\n",
      "60000/60000 [==============================] - 7s 117us/step - loss: 0.2630 - val_loss: 0.2641\n",
      "Epoch 38/100\n",
      "60000/60000 [==============================] - 7s 116us/step - loss: 0.2629 - val_loss: 0.2640\n",
      "Epoch 39/100\n",
      "60000/60000 [==============================] - 7s 116us/step - loss: 0.2628 - val_loss: 0.2639\n",
      "Epoch 40/100\n",
      "60000/60000 [==============================] - 7s 116us/step - loss: 0.2627 - val_loss: 0.2638\n",
      "Epoch 41/100\n",
      "60000/60000 [==============================] - 7s 116us/step - loss: 0.2626 - val_loss: 0.2637\n",
      "Epoch 42/100\n",
      "60000/60000 [==============================] - 7s 115us/step - loss: 0.2626 - val_loss: 0.2637\n",
      "Epoch 43/100\n",
      "60000/60000 [==============================] - 7s 114us/step - loss: 0.2625 - val_loss: 0.2636\n",
      "Epoch 44/100\n",
      "60000/60000 [==============================] - 7s 115us/step - loss: 0.2624 - val_loss: 0.2635\n",
      "Epoch 45/100\n",
      "60000/60000 [==============================] - 7s 115us/step - loss: 0.2623 - val_loss: 0.2634\n",
      "Epoch 46/100\n",
      "60000/60000 [==============================] - 7s 115us/step - loss: 0.2622 - val_loss: 0.2633\n",
      "Epoch 47/100\n",
      "60000/60000 [==============================] - 7s 115us/step - loss: 0.2622 - val_loss: 0.2633\n",
      "Epoch 48/100\n",
      "60000/60000 [==============================] - 7s 116us/step - loss: 0.2621 - val_loss: 0.2632\n",
      "Epoch 49/100\n",
      "60000/60000 [==============================] - 7s 116us/step - loss: 0.2620 - val_loss: 0.2632\n",
      "Epoch 50/100\n",
      "60000/60000 [==============================] - 7s 115us/step - loss: 0.2620 - val_loss: 0.2631\n",
      "Epoch 51/100\n",
      "60000/60000 [==============================] - 7s 115us/step - loss: 0.2619 - val_loss: 0.2630\n",
      "Epoch 52/100\n",
      "60000/60000 [==============================] - 7s 115us/step - loss: 0.2618 - val_loss: 0.2630\n",
      "Epoch 53/100\n",
      "60000/60000 [==============================] - 7s 115us/step - loss: 0.2618 - val_loss: 0.2629\n",
      "Epoch 54/100\n",
      "60000/60000 [==============================] - 7s 114us/step - loss: 0.2617 - val_loss: 0.2630\n",
      "Epoch 55/100\n",
      "60000/60000 [==============================] - 7s 115us/step - loss: 0.2617 - val_loss: 0.2628\n",
      "Epoch 56/100\n",
      "60000/60000 [==============================] - 7s 116us/step - loss: 0.2616 - val_loss: 0.2627\n",
      "Epoch 57/100\n",
      "60000/60000 [==============================] - 7s 115us/step - loss: 0.2616 - val_loss: 0.2627\n",
      "Epoch 58/100\n",
      "60000/60000 [==============================] - 7s 116us/step - loss: 0.2615 - val_loss: 0.2627\n",
      "Epoch 59/100\n",
      "60000/60000 [==============================] - 7s 115us/step - loss: 0.2614 - val_loss: 0.2626\n",
      "Epoch 60/100\n",
      "60000/60000 [==============================] - 7s 115us/step - loss: 0.2614 - val_loss: 0.2626\n",
      "Epoch 61/100\n",
      "60000/60000 [==============================] - 7s 116us/step - loss: 0.2613 - val_loss: 0.2625\n",
      "Epoch 62/100\n",
      "60000/60000 [==============================] - 7s 117us/step - loss: 0.2613 - val_loss: 0.2625\n",
      "Epoch 63/100\n",
      "60000/60000 [==============================] - 7s 116us/step - loss: 0.2613 - val_loss: 0.2624\n",
      "Epoch 64/100\n",
      "60000/60000 [==============================] - 7s 115us/step - loss: 0.2612 - val_loss: 0.2624\n",
      "Epoch 65/100\n",
      "60000/60000 [==============================] - 7s 116us/step - loss: 0.2612 - val_loss: 0.2623\n",
      "Epoch 66/100\n",
      "60000/60000 [==============================] - 7s 116us/step - loss: 0.2611 - val_loss: 0.2623\n",
      "Epoch 67/100\n",
      "60000/60000 [==============================] - 7s 116us/step - loss: 0.2611 - val_loss: 0.2622\n",
      "Epoch 68/100\n",
      "60000/60000 [==============================] - 7s 115us/step - loss: 0.2610 - val_loss: 0.2622\n",
      "Epoch 69/100\n",
      "60000/60000 [==============================] - 7s 114us/step - loss: 0.2610 - val_loss: 0.2622\n",
      "Epoch 70/100\n",
      "60000/60000 [==============================] - 7s 115us/step - loss: 0.2610 - val_loss: 0.2622\n",
      "Epoch 71/100\n",
      "60000/60000 [==============================] - 7s 115us/step - loss: 0.2609 - val_loss: 0.2621\n",
      "Epoch 72/100\n",
      "60000/60000 [==============================] - 7s 115us/step - loss: 0.2609 - val_loss: 0.2620\n",
      "Epoch 73/100\n",
      "60000/60000 [==============================] - 7s 116us/step - loss: 0.2608 - val_loss: 0.2620\n",
      "Epoch 74/100\n",
      "60000/60000 [==============================] - 7s 115us/step - loss: 0.2608 - val_loss: 0.2620\n",
      "Epoch 75/100\n",
      "60000/60000 [==============================] - 7s 115us/step - loss: 0.2607 - val_loss: 0.2619\n",
      "Epoch 76/100\n",
      "60000/60000 [==============================] - 7s 115us/step - loss: 0.2607 - val_loss: 0.2619\n",
      "Epoch 77/100\n",
      "60000/60000 [==============================] - 7s 115us/step - loss: 0.2606 - val_loss: 0.2619\n",
      "Epoch 78/100\n",
      "60000/60000 [==============================] - 7s 115us/step - loss: 0.2606 - val_loss: 0.2618\n",
      "Epoch 79/100\n",
      "60000/60000 [==============================] - 7s 115us/step - loss: 0.2606 - val_loss: 0.2618\n",
      "Epoch 80/100\n",
      "60000/60000 [==============================] - 7s 115us/step - loss: 0.2605 - val_loss: 0.2617\n",
      "Epoch 81/100\n",
      "60000/60000 [==============================] - 7s 116us/step - loss: 0.2605 - val_loss: 0.2617\n",
      "Epoch 82/100\n",
      "60000/60000 [==============================] - 7s 116us/step - loss: 0.2605 - val_loss: 0.2619\n",
      "Epoch 83/100\n",
      "60000/60000 [==============================] - 7s 116us/step - loss: 0.2605 - val_loss: 0.2617\n",
      "Epoch 84/100\n",
      "60000/60000 [==============================] - 7s 116us/step - loss: 0.2604 - val_loss: 0.2616\n",
      "Epoch 85/100\n",
      "60000/60000 [==============================] - 7s 115us/step - loss: 0.2603 - val_loss: 0.2616\n",
      "Epoch 86/100\n",
      "60000/60000 [==============================] - 7s 115us/step - loss: 0.2603 - val_loss: 0.2616\n",
      "Epoch 87/100\n",
      "60000/60000 [==============================] - 7s 115us/step - loss: 0.2603 - val_loss: 0.2615\n",
      "Epoch 88/100\n",
      "60000/60000 [==============================] - 7s 115us/step - loss: 0.2602 - val_loss: 0.2615\n",
      "Epoch 89/100\n",
      "60000/60000 [==============================] - 7s 116us/step - loss: 0.2602 - val_loss: 0.2615\n",
      "Epoch 90/100\n",
      "60000/60000 [==============================] - 7s 116us/step - loss: 0.2602 - val_loss: 0.2615\n",
      "Epoch 91/100\n",
      "60000/60000 [==============================] - 7s 115us/step - loss: 0.2602 - val_loss: 0.2614\n",
      "Epoch 92/100\n",
      "60000/60000 [==============================] - 7s 116us/step - loss: 0.2601 - val_loss: 0.2614\n",
      "Epoch 93/100\n",
      "60000/60000 [==============================] - 7s 116us/step - loss: 0.2601 - val_loss: 0.2614\n",
      "Epoch 94/100\n",
      "60000/60000 [==============================] - 7s 116us/step - loss: 0.2601 - val_loss: 0.2613\n",
      "Epoch 95/100\n",
      "60000/60000 [==============================] - 7s 115us/step - loss: 0.2600 - val_loss: 0.2613\n",
      "Epoch 96/100\n",
      "60000/60000 [==============================] - 7s 115us/step - loss: 0.2600 - val_loss: 0.2613\n",
      "Epoch 97/100\n",
      "60000/60000 [==============================] - 7s 115us/step - loss: 0.2600 - val_loss: 0.2612\n",
      "Epoch 98/100\n",
      "60000/60000 [==============================] - 7s 116us/step - loss: 0.2600 - val_loss: 0.2612\n",
      "Epoch 99/100\n",
      "60000/60000 [==============================] - 7s 115us/step - loss: 0.2599 - val_loss: 0.2612\n",
      "Epoch 100/100\n",
      "60000/60000 [==============================] - 7s 115us/step - loss: 0.2599 - val_loss: 0.2612\n"
     ]
    }
   ],
   "source": [
    "history = autoencoder.fit(X_train, X_train,\n",
    "                          epochs = 100,\n",
    "                          batch_size = 1024,\n",
    "                          validation_data = (X_test, X_test))"
   ]
  },
  {
   "cell_type": "code",
   "execution_count": 0,
   "metadata": {
    "colab": {},
    "colab_type": "code",
    "id": "g-wEcabWW-Hl"
   },
   "outputs": [],
   "source": [
    "autoencoder.save('/content/model_autoencoder.h5')"
   ]
  },
  {
   "cell_type": "code",
   "execution_count": 0,
   "metadata": {
    "colab": {},
    "colab_type": "code",
    "id": "lBtEI0d-aVZ1"
   },
   "outputs": [],
   "source": [
    "t = autoencoder.predict(X_test[:1])"
   ]
  },
  {
   "cell_type": "code",
   "execution_count": 35,
   "metadata": {
    "colab": {
     "base_uri": "https://localhost:8080/",
     "height": 513
    },
    "colab_type": "code",
    "id": "xtC0SAztak3D",
    "outputId": "484376c9-3941-4a06-ba35-efa6acb0edd2"
   },
   "outputs": [
    {
     "data": {
      "image/png": "[encoded data removed]",
      "text/plain": [
       "<Figure size 432x288 with 1 Axes>"
      ]
     },
     "metadata": {
      "tags": []
     },
     "output_type": "display_data"
    },
    {
     "data": {
      "image/png": "[encoded data removed]",
      "text/plain": [
       "<Figure size 432x288 with 1 Axes>"
      ]
     },
     "metadata": {
      "tags": []
     },
     "output_type": "display_data"
    }
   ],
   "source": [
    "plt.imshow(X_test[0].reshape(28,28))\n",
    "plt.gray()\n",
    "plt.show()\n",
    "plt.imshow(t[0].reshape(28,28))\n",
    "plt.gray()\n",
    "plt.show()"
   ]
  },
  {
   "cell_type": "code",
   "execution_count": 0,
   "metadata": {
    "colab": {},
    "colab_type": "code",
    "id": "fHtAMB2zau18"
   },
   "outputs": [],
   "source": [
    "# encoder model\n",
    "encoder_model = Model(i, b)"
   ]
  },
  {
   "cell_type": "code",
   "execution_count": 37,
   "metadata": {
    "colab": {
     "base_uri": "https://localhost:8080/",
     "height": 269
    },
    "colab_type": "code",
    "id": "vDMLQp04a0zM",
    "outputId": "ef2a8ebb-31d8-4eb6-abb3-95de63a9cfaf"
   },
   "outputs": [
    {
     "data": {
      "image/png": "[encoded data removed]",
      "text/plain": [
       "<Figure size 432x288 with 1 Axes>"
      ]
     },
     "metadata": {
      "tags": []
     },
     "output_type": "display_data"
    }
   ],
   "source": [
    "encoded_img = encoder_model.predict(X_test[:1])\n",
    "plt.imshow(encoded_img[0].reshape(4,4))\n",
    "plt.gray()\n",
    "plt.show()"
   ]
  },
  {
   "cell_type": "code",
   "execution_count": 0,
   "metadata": {
    "colab": {},
    "colab_type": "code",
    "id": "1xqzLVaFb9yn"
   },
   "outputs": [],
   "source": [
    "# decoder model\n",
    "input_b = Input(shape=(16,))\n",
    "l1 = autoencoder.layers[-3](input_b)\n",
    "l2 = autoencoder.layers[-2](l1)\n",
    "o_new = autoencoder.layers[-1](l2)\n",
    "\n",
    "decoder_model = Model(input_b,o_new)"
   ]
  },
  {
   "cell_type": "code",
   "execution_count": 0,
   "metadata": {
    "colab": {},
    "colab_type": "code",
    "id": "fRTlzpv5csqp"
   },
   "outputs": [],
   "source": []
  }
 ],
 "metadata": {
  "colab": {
   "name": "Autoencoder.ipynb",
   "provenance": []
  },
  "kernelspec": {
   "display_name": "Python 3 (ipykernel)",
   "language": "python",
   "name": "python3"
  },
  "language_info": {
   "codemirror_mode": {
    "name": "ipython",
    "version": 3
   },
   "file_extension": ".py",
   "mimetype": "text/x-python",
   "name": "python",
   "nbconvert_exporter": "python",
   "pygments_lexer": "ipython3",
   "version": "3.9.17"
  }
 },
 "nbformat": 4,
 "nbformat_minor": 1
}
